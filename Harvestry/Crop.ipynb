{
 "cells": [
  {
   "cell_type": "markdown",
   "id": "e00c0f78",
   "metadata": {},
   "source": [
    "# Crop Recommendation System"
   ]
  },
  {
   "cell_type": "markdown",
   "id": "e0c89591",
   "metadata": {},
   "source": [
    "A crop recommendation system is an innovative application of data science and machine learning techniques that aims to assist farmers and agricultural stakeholders in making informed decisions about crop selection and management practices. By leveraging various sources of data, such as soil characteristics, weather patterns, historical yield data, and crop-specific requirements, these systems provide personalized recommendations to optimize agricultural productivity and sustainability.\n",
    "\n",
    "Traditionally, farmers rely on their experience, local knowledge, and sometimes advice from agricultural experts to determine which crops to grow in a particular season. However, these approaches may not take into account the vast amount of data available or the complexity of interdependencies between environmental factors and crop performance. Crop recommendation systems fill this gap by incorporating data-driven insights into the decision-making process, leading to more precise and efficient agricultural practices."
   ]
  },
  {
   "cell_type": "markdown",
   "id": "49dbcfdc",
   "metadata": {},
   "source": [
    "### Importing libraries"
   ]
  },
  {
   "cell_type": "markdown",
   "id": "3065300f",
   "metadata": {},
   "source": [
    "Importing libraries in Python is of utmost importance as it allows programmers to leverage the existing code and functionality developed by others, saving time and effort in writing everything from scratch. Libraries are collections of pre-written code modules that provide a wide range of tools, functions, and classes to perform specific tasks.\n",
    "\n",
    "Here are some key reasons why importing libraries is essential in Python:\n",
    "   - Reusability\n",
    "   - Efficiency \n",
    "   - Functinal Expansion\n",
    "   - Code Modularity"
   ]
  },
  {
   "cell_type": "code",
   "execution_count": 1,
   "id": "ff550173",
   "metadata": {},
   "outputs": [],
   "source": [
    "import os\n",
    "import pandas as pd\n",
    "import numpy as np\n",
    "import matplotlib.pyplot as plt\n",
    "import seaborn as sns\n",
    "\n",
    "sns.set_theme()\n",
    "\n",
    "import warnings\n",
    "warnings.filterwarnings(\"ignore\")"
   ]
  },
  {
   "cell_type": "markdown",
   "id": "cb04a803",
   "metadata": {},
   "source": [
    "### Loading Datasets"
   ]
  },
  {
   "cell_type": "markdown",
   "id": "3a45df75",
   "metadata": {},
   "source": [
    "Loading a dataset is a critical step in machine learning, and its importance cannot be overstated. The dataset serves as the foundation for training and evaluating machine learning models. It provides the necessary information for the model to learn patterns, make predictions, and gain insights."
   ]
  },
  {
   "cell_type": "code",
   "execution_count": 2,
   "id": "3f2c03c8",
   "metadata": {},
   "outputs": [],
   "source": [
    "cd=pd.read_csv(\"C:/Users/salai/Anaconda additinal file/Harvestry/cr_data.csv\")"
   ]
  },
  {
   "cell_type": "code",
   "execution_count": 3,
   "id": "575c25cb",
   "metadata": {},
   "outputs": [
    {
     "data": {
      "text/html": [
       "<div>\n",
       "<style scoped>\n",
       "    .dataframe tbody tr th:only-of-type {\n",
       "        vertical-align: middle;\n",
       "    }\n",
       "\n",
       "    .dataframe tbody tr th {\n",
       "        vertical-align: top;\n",
       "    }\n",
       "\n",
       "    .dataframe thead th {\n",
       "        text-align: right;\n",
       "    }\n",
       "</style>\n",
       "<table border=\"1\" class=\"dataframe\">\n",
       "  <thead>\n",
       "    <tr style=\"text-align: right;\">\n",
       "      <th></th>\n",
       "      <th>N</th>\n",
       "      <th>P</th>\n",
       "      <th>K</th>\n",
       "      <th>temperature</th>\n",
       "      <th>humidity</th>\n",
       "      <th>ph</th>\n",
       "      <th>rainfall</th>\n",
       "      <th>label</th>\n",
       "    </tr>\n",
       "  </thead>\n",
       "  <tbody>\n",
       "    <tr>\n",
       "      <th>0</th>\n",
       "      <td>90</td>\n",
       "      <td>42</td>\n",
       "      <td>43</td>\n",
       "      <td>20.879744</td>\n",
       "      <td>82.002744</td>\n",
       "      <td>6.502985</td>\n",
       "      <td>202.935536</td>\n",
       "      <td>rice</td>\n",
       "    </tr>\n",
       "    <tr>\n",
       "      <th>1</th>\n",
       "      <td>85</td>\n",
       "      <td>58</td>\n",
       "      <td>41</td>\n",
       "      <td>21.770462</td>\n",
       "      <td>80.319644</td>\n",
       "      <td>7.038096</td>\n",
       "      <td>226.655537</td>\n",
       "      <td>rice</td>\n",
       "    </tr>\n",
       "    <tr>\n",
       "      <th>2</th>\n",
       "      <td>60</td>\n",
       "      <td>55</td>\n",
       "      <td>44</td>\n",
       "      <td>23.004459</td>\n",
       "      <td>82.320763</td>\n",
       "      <td>7.840207</td>\n",
       "      <td>263.964248</td>\n",
       "      <td>rice</td>\n",
       "    </tr>\n",
       "    <tr>\n",
       "      <th>3</th>\n",
       "      <td>74</td>\n",
       "      <td>35</td>\n",
       "      <td>40</td>\n",
       "      <td>26.491096</td>\n",
       "      <td>80.158363</td>\n",
       "      <td>6.980401</td>\n",
       "      <td>242.864034</td>\n",
       "      <td>rice</td>\n",
       "    </tr>\n",
       "    <tr>\n",
       "      <th>4</th>\n",
       "      <td>78</td>\n",
       "      <td>42</td>\n",
       "      <td>42</td>\n",
       "      <td>20.130175</td>\n",
       "      <td>81.604873</td>\n",
       "      <td>7.628473</td>\n",
       "      <td>262.717340</td>\n",
       "      <td>rice</td>\n",
       "    </tr>\n",
       "    <tr>\n",
       "      <th>...</th>\n",
       "      <td>...</td>\n",
       "      <td>...</td>\n",
       "      <td>...</td>\n",
       "      <td>...</td>\n",
       "      <td>...</td>\n",
       "      <td>...</td>\n",
       "      <td>...</td>\n",
       "      <td>...</td>\n",
       "    </tr>\n",
       "    <tr>\n",
       "      <th>2195</th>\n",
       "      <td>107</td>\n",
       "      <td>34</td>\n",
       "      <td>32</td>\n",
       "      <td>26.774637</td>\n",
       "      <td>66.413269</td>\n",
       "      <td>6.780064</td>\n",
       "      <td>177.774507</td>\n",
       "      <td>coffee</td>\n",
       "    </tr>\n",
       "    <tr>\n",
       "      <th>2196</th>\n",
       "      <td>99</td>\n",
       "      <td>15</td>\n",
       "      <td>27</td>\n",
       "      <td>27.417112</td>\n",
       "      <td>56.636362</td>\n",
       "      <td>6.086922</td>\n",
       "      <td>127.924610</td>\n",
       "      <td>coffee</td>\n",
       "    </tr>\n",
       "    <tr>\n",
       "      <th>2197</th>\n",
       "      <td>118</td>\n",
       "      <td>33</td>\n",
       "      <td>30</td>\n",
       "      <td>24.131797</td>\n",
       "      <td>67.225123</td>\n",
       "      <td>6.362608</td>\n",
       "      <td>173.322839</td>\n",
       "      <td>coffee</td>\n",
       "    </tr>\n",
       "    <tr>\n",
       "      <th>2198</th>\n",
       "      <td>117</td>\n",
       "      <td>32</td>\n",
       "      <td>34</td>\n",
       "      <td>26.272418</td>\n",
       "      <td>52.127394</td>\n",
       "      <td>6.758793</td>\n",
       "      <td>127.175293</td>\n",
       "      <td>coffee</td>\n",
       "    </tr>\n",
       "    <tr>\n",
       "      <th>2199</th>\n",
       "      <td>104</td>\n",
       "      <td>18</td>\n",
       "      <td>30</td>\n",
       "      <td>23.603016</td>\n",
       "      <td>60.396475</td>\n",
       "      <td>6.779833</td>\n",
       "      <td>140.937041</td>\n",
       "      <td>coffee</td>\n",
       "    </tr>\n",
       "  </tbody>\n",
       "</table>\n",
       "<p>2200 rows × 8 columns</p>\n",
       "</div>"
      ],
      "text/plain": [
       "        N   P   K  temperature   humidity        ph    rainfall   label\n",
       "0      90  42  43    20.879744  82.002744  6.502985  202.935536    rice\n",
       "1      85  58  41    21.770462  80.319644  7.038096  226.655537    rice\n",
       "2      60  55  44    23.004459  82.320763  7.840207  263.964248    rice\n",
       "3      74  35  40    26.491096  80.158363  6.980401  242.864034    rice\n",
       "4      78  42  42    20.130175  81.604873  7.628473  262.717340    rice\n",
       "...   ...  ..  ..          ...        ...       ...         ...     ...\n",
       "2195  107  34  32    26.774637  66.413269  6.780064  177.774507  coffee\n",
       "2196   99  15  27    27.417112  56.636362  6.086922  127.924610  coffee\n",
       "2197  118  33  30    24.131797  67.225123  6.362608  173.322839  coffee\n",
       "2198  117  32  34    26.272418  52.127394  6.758793  127.175293  coffee\n",
       "2199  104  18  30    23.603016  60.396475  6.779833  140.937041  coffee\n",
       "\n",
       "[2200 rows x 8 columns]"
      ]
     },
     "execution_count": 3,
     "metadata": {},
     "output_type": "execute_result"
    }
   ],
   "source": [
    "cd"
   ]
  },
  {
   "cell_type": "markdown",
   "id": "33a2e439",
   "metadata": {},
   "source": [
    "### Data Pre-processing"
   ]
  },
  {
   "cell_type": "markdown",
   "id": "7656545c",
   "metadata": {},
   "source": [
    "Here are some key reasons highlighting the importance of data preprocessing in machine learning:\n",
    "\n",
    "   - Data Quality Improvement\n",
    "   - Handling Missing data\n",
    "   - Repairing unproper data\n",
    "   - Handling categorical data"
   ]
  },
  {
   "cell_type": "code",
   "execution_count": 4,
   "id": "db6654e7",
   "metadata": {
    "scrolled": false
   },
   "outputs": [
    {
     "name": "stdout",
     "output_type": "stream",
     "text": [
      "<class 'pandas.core.frame.DataFrame'>\n",
      "RangeIndex: 2200 entries, 0 to 2199\n",
      "Data columns (total 8 columns):\n",
      " #   Column       Non-Null Count  Dtype  \n",
      "---  ------       --------------  -----  \n",
      " 0   N            2200 non-null   int64  \n",
      " 1   P            2200 non-null   int64  \n",
      " 2   K            2200 non-null   int64  \n",
      " 3   temperature  2200 non-null   float64\n",
      " 4   humidity     2200 non-null   float64\n",
      " 5   ph           2200 non-null   float64\n",
      " 6   rainfall     2200 non-null   float64\n",
      " 7   label        2200 non-null   object \n",
      "dtypes: float64(4), int64(3), object(1)\n",
      "memory usage: 137.6+ KB\n"
     ]
    }
   ],
   "source": [
    "cd.info()"
   ]
  },
  {
   "cell_type": "code",
   "execution_count": 5,
   "id": "7b7f56a7",
   "metadata": {},
   "outputs": [
    {
     "data": {
      "text/html": [
       "<div>\n",
       "<style scoped>\n",
       "    .dataframe tbody tr th:only-of-type {\n",
       "        vertical-align: middle;\n",
       "    }\n",
       "\n",
       "    .dataframe tbody tr th {\n",
       "        vertical-align: top;\n",
       "    }\n",
       "\n",
       "    .dataframe thead th {\n",
       "        text-align: right;\n",
       "    }\n",
       "</style>\n",
       "<table border=\"1\" class=\"dataframe\">\n",
       "  <thead>\n",
       "    <tr style=\"text-align: right;\">\n",
       "      <th></th>\n",
       "      <th>N</th>\n",
       "      <th>P</th>\n",
       "      <th>K</th>\n",
       "      <th>temperature</th>\n",
       "      <th>humidity</th>\n",
       "      <th>ph</th>\n",
       "      <th>rainfall</th>\n",
       "      <th>label</th>\n",
       "    </tr>\n",
       "  </thead>\n",
       "  <tbody>\n",
       "    <tr>\n",
       "      <th>0</th>\n",
       "      <td>90</td>\n",
       "      <td>42</td>\n",
       "      <td>43</td>\n",
       "      <td>20.879744</td>\n",
       "      <td>82.002744</td>\n",
       "      <td>6.502985</td>\n",
       "      <td>202.935536</td>\n",
       "      <td>rice</td>\n",
       "    </tr>\n",
       "    <tr>\n",
       "      <th>1</th>\n",
       "      <td>85</td>\n",
       "      <td>58</td>\n",
       "      <td>41</td>\n",
       "      <td>21.770462</td>\n",
       "      <td>80.319644</td>\n",
       "      <td>7.038096</td>\n",
       "      <td>226.655537</td>\n",
       "      <td>rice</td>\n",
       "    </tr>\n",
       "    <tr>\n",
       "      <th>2</th>\n",
       "      <td>60</td>\n",
       "      <td>55</td>\n",
       "      <td>44</td>\n",
       "      <td>23.004459</td>\n",
       "      <td>82.320763</td>\n",
       "      <td>7.840207</td>\n",
       "      <td>263.964248</td>\n",
       "      <td>rice</td>\n",
       "    </tr>\n",
       "    <tr>\n",
       "      <th>3</th>\n",
       "      <td>74</td>\n",
       "      <td>35</td>\n",
       "      <td>40</td>\n",
       "      <td>26.491096</td>\n",
       "      <td>80.158363</td>\n",
       "      <td>6.980401</td>\n",
       "      <td>242.864034</td>\n",
       "      <td>rice</td>\n",
       "    </tr>\n",
       "    <tr>\n",
       "      <th>4</th>\n",
       "      <td>78</td>\n",
       "      <td>42</td>\n",
       "      <td>42</td>\n",
       "      <td>20.130175</td>\n",
       "      <td>81.604873</td>\n",
       "      <td>7.628473</td>\n",
       "      <td>262.717340</td>\n",
       "      <td>rice</td>\n",
       "    </tr>\n",
       "  </tbody>\n",
       "</table>\n",
       "</div>"
      ],
      "text/plain": [
       "    N   P   K  temperature   humidity        ph    rainfall label\n",
       "0  90  42  43    20.879744  82.002744  6.502985  202.935536  rice\n",
       "1  85  58  41    21.770462  80.319644  7.038096  226.655537  rice\n",
       "2  60  55  44    23.004459  82.320763  7.840207  263.964248  rice\n",
       "3  74  35  40    26.491096  80.158363  6.980401  242.864034  rice\n",
       "4  78  42  42    20.130175  81.604873  7.628473  262.717340  rice"
      ]
     },
     "execution_count": 5,
     "metadata": {},
     "output_type": "execute_result"
    }
   ],
   "source": [
    "cd.head()"
   ]
  },
  {
   "cell_type": "code",
   "execution_count": 6,
   "id": "e437b959",
   "metadata": {},
   "outputs": [
    {
     "data": {
      "text/html": [
       "<div>\n",
       "<style scoped>\n",
       "    .dataframe tbody tr th:only-of-type {\n",
       "        vertical-align: middle;\n",
       "    }\n",
       "\n",
       "    .dataframe tbody tr th {\n",
       "        vertical-align: top;\n",
       "    }\n",
       "\n",
       "    .dataframe thead th {\n",
       "        text-align: right;\n",
       "    }\n",
       "</style>\n",
       "<table border=\"1\" class=\"dataframe\">\n",
       "  <thead>\n",
       "    <tr style=\"text-align: right;\">\n",
       "      <th></th>\n",
       "      <th>N</th>\n",
       "      <th>P</th>\n",
       "      <th>K</th>\n",
       "      <th>temperature</th>\n",
       "      <th>humidity</th>\n",
       "      <th>ph</th>\n",
       "      <th>rainfall</th>\n",
       "      <th>label</th>\n",
       "    </tr>\n",
       "  </thead>\n",
       "  <tbody>\n",
       "    <tr>\n",
       "      <th>0</th>\n",
       "      <td>False</td>\n",
       "      <td>False</td>\n",
       "      <td>False</td>\n",
       "      <td>False</td>\n",
       "      <td>False</td>\n",
       "      <td>False</td>\n",
       "      <td>False</td>\n",
       "      <td>False</td>\n",
       "    </tr>\n",
       "    <tr>\n",
       "      <th>1</th>\n",
       "      <td>False</td>\n",
       "      <td>False</td>\n",
       "      <td>False</td>\n",
       "      <td>False</td>\n",
       "      <td>False</td>\n",
       "      <td>False</td>\n",
       "      <td>False</td>\n",
       "      <td>False</td>\n",
       "    </tr>\n",
       "    <tr>\n",
       "      <th>2</th>\n",
       "      <td>False</td>\n",
       "      <td>False</td>\n",
       "      <td>False</td>\n",
       "      <td>False</td>\n",
       "      <td>False</td>\n",
       "      <td>False</td>\n",
       "      <td>False</td>\n",
       "      <td>False</td>\n",
       "    </tr>\n",
       "    <tr>\n",
       "      <th>3</th>\n",
       "      <td>False</td>\n",
       "      <td>False</td>\n",
       "      <td>False</td>\n",
       "      <td>False</td>\n",
       "      <td>False</td>\n",
       "      <td>False</td>\n",
       "      <td>False</td>\n",
       "      <td>False</td>\n",
       "    </tr>\n",
       "    <tr>\n",
       "      <th>4</th>\n",
       "      <td>False</td>\n",
       "      <td>False</td>\n",
       "      <td>False</td>\n",
       "      <td>False</td>\n",
       "      <td>False</td>\n",
       "      <td>False</td>\n",
       "      <td>False</td>\n",
       "      <td>False</td>\n",
       "    </tr>\n",
       "    <tr>\n",
       "      <th>...</th>\n",
       "      <td>...</td>\n",
       "      <td>...</td>\n",
       "      <td>...</td>\n",
       "      <td>...</td>\n",
       "      <td>...</td>\n",
       "      <td>...</td>\n",
       "      <td>...</td>\n",
       "      <td>...</td>\n",
       "    </tr>\n",
       "    <tr>\n",
       "      <th>2195</th>\n",
       "      <td>False</td>\n",
       "      <td>False</td>\n",
       "      <td>False</td>\n",
       "      <td>False</td>\n",
       "      <td>False</td>\n",
       "      <td>False</td>\n",
       "      <td>False</td>\n",
       "      <td>False</td>\n",
       "    </tr>\n",
       "    <tr>\n",
       "      <th>2196</th>\n",
       "      <td>False</td>\n",
       "      <td>False</td>\n",
       "      <td>False</td>\n",
       "      <td>False</td>\n",
       "      <td>False</td>\n",
       "      <td>False</td>\n",
       "      <td>False</td>\n",
       "      <td>False</td>\n",
       "    </tr>\n",
       "    <tr>\n",
       "      <th>2197</th>\n",
       "      <td>False</td>\n",
       "      <td>False</td>\n",
       "      <td>False</td>\n",
       "      <td>False</td>\n",
       "      <td>False</td>\n",
       "      <td>False</td>\n",
       "      <td>False</td>\n",
       "      <td>False</td>\n",
       "    </tr>\n",
       "    <tr>\n",
       "      <th>2198</th>\n",
       "      <td>False</td>\n",
       "      <td>False</td>\n",
       "      <td>False</td>\n",
       "      <td>False</td>\n",
       "      <td>False</td>\n",
       "      <td>False</td>\n",
       "      <td>False</td>\n",
       "      <td>False</td>\n",
       "    </tr>\n",
       "    <tr>\n",
       "      <th>2199</th>\n",
       "      <td>False</td>\n",
       "      <td>False</td>\n",
       "      <td>False</td>\n",
       "      <td>False</td>\n",
       "      <td>False</td>\n",
       "      <td>False</td>\n",
       "      <td>False</td>\n",
       "      <td>False</td>\n",
       "    </tr>\n",
       "  </tbody>\n",
       "</table>\n",
       "<p>2200 rows × 8 columns</p>\n",
       "</div>"
      ],
      "text/plain": [
       "          N      P      K  temperature  humidity     ph  rainfall  label\n",
       "0     False  False  False        False     False  False     False  False\n",
       "1     False  False  False        False     False  False     False  False\n",
       "2     False  False  False        False     False  False     False  False\n",
       "3     False  False  False        False     False  False     False  False\n",
       "4     False  False  False        False     False  False     False  False\n",
       "...     ...    ...    ...          ...       ...    ...       ...    ...\n",
       "2195  False  False  False        False     False  False     False  False\n",
       "2196  False  False  False        False     False  False     False  False\n",
       "2197  False  False  False        False     False  False     False  False\n",
       "2198  False  False  False        False     False  False     False  False\n",
       "2199  False  False  False        False     False  False     False  False\n",
       "\n",
       "[2200 rows x 8 columns]"
      ]
     },
     "execution_count": 6,
     "metadata": {},
     "output_type": "execute_result"
    }
   ],
   "source": [
    "cd.isnull()"
   ]
  },
  {
   "cell_type": "code",
   "execution_count": 7,
   "id": "46f9dbd8",
   "metadata": {},
   "outputs": [
    {
     "data": {
      "text/plain": [
       "N              False\n",
       "P              False\n",
       "K              False\n",
       "temperature    False\n",
       "humidity       False\n",
       "ph             False\n",
       "rainfall       False\n",
       "label          False\n",
       "dtype: bool"
      ]
     },
     "execution_count": 7,
     "metadata": {},
     "output_type": "execute_result"
    }
   ],
   "source": [
    "cd.isnull().any()"
   ]
  },
  {
   "cell_type": "code",
   "execution_count": 8,
   "id": "8edac240",
   "metadata": {},
   "outputs": [
    {
     "data": {
      "text/plain": [
       "N              0\n",
       "P              0\n",
       "K              0\n",
       "temperature    0\n",
       "humidity       0\n",
       "ph             0\n",
       "rainfall       0\n",
       "label          0\n",
       "dtype: int64"
      ]
     },
     "execution_count": 8,
     "metadata": {},
     "output_type": "execute_result"
    }
   ],
   "source": [
    "cd.isnull().sum()"
   ]
  },
  {
   "cell_type": "code",
   "execution_count": 9,
   "id": "5aecdf20",
   "metadata": {},
   "outputs": [
    {
     "data": {
      "text/plain": [
       "0"
      ]
     },
     "execution_count": 9,
     "metadata": {},
     "output_type": "execute_result"
    }
   ],
   "source": [
    "cd.isnull().sum().sum()"
   ]
  },
  {
   "cell_type": "code",
   "execution_count": 10,
   "id": "58f8a4a5",
   "metadata": {},
   "outputs": [
    {
     "data": {
      "text/plain": [
       "(2200, 8)"
      ]
     },
     "execution_count": 10,
     "metadata": {},
     "output_type": "execute_result"
    }
   ],
   "source": [
    "cd.shape"
   ]
  },
  {
   "cell_type": "code",
   "execution_count": 11,
   "id": "f552c051",
   "metadata": {},
   "outputs": [
    {
     "data": {
      "text/plain": [
       "Index(['N', 'P', 'K', 'temperature', 'humidity', 'ph', 'rainfall', 'label'], dtype='object')"
      ]
     },
     "execution_count": 11,
     "metadata": {},
     "output_type": "execute_result"
    }
   ],
   "source": [
    "cd.columns"
   ]
  },
  {
   "cell_type": "code",
   "execution_count": 12,
   "id": "34dc0acb",
   "metadata": {},
   "outputs": [
    {
     "data": {
      "text/plain": [
       "0         rice\n",
       "1         rice\n",
       "2         rice\n",
       "3         rice\n",
       "4         rice\n",
       "         ...  \n",
       "2195    coffee\n",
       "2196    coffee\n",
       "2197    coffee\n",
       "2198    coffee\n",
       "2199    coffee\n",
       "Name: label, Length: 2200, dtype: object"
      ]
     },
     "execution_count": 12,
     "metadata": {},
     "output_type": "execute_result"
    }
   ],
   "source": [
    "cd[\"label\"]"
   ]
  },
  {
   "cell_type": "code",
   "execution_count": 13,
   "id": "15a6e21e",
   "metadata": {},
   "outputs": [
    {
     "data": {
      "text/plain": [
       "array(['rice', 'maize', 'chickpea', 'kidneybeans', 'pigeonpeas',\n",
       "       'mothbeans', 'mungbean', 'blackgram', 'lentil', 'pomegranate',\n",
       "       'banana', 'mango', 'grapes', 'watermelon', 'muskmelon', 'apple',\n",
       "       'orange', 'papaya', 'coconut', 'cotton', 'jute', 'coffee'],\n",
       "      dtype=object)"
      ]
     },
     "execution_count": 13,
     "metadata": {},
     "output_type": "execute_result"
    }
   ],
   "source": [
    "cd[\"label\"].unique()"
   ]
  },
  {
   "cell_type": "code",
   "execution_count": 14,
   "id": "e77cd5a3",
   "metadata": {},
   "outputs": [
    {
     "data": {
      "text/plain": [
       "rice           100\n",
       "maize          100\n",
       "jute           100\n",
       "cotton         100\n",
       "coconut        100\n",
       "papaya         100\n",
       "orange         100\n",
       "apple          100\n",
       "muskmelon      100\n",
       "watermelon     100\n",
       "grapes         100\n",
       "mango          100\n",
       "banana         100\n",
       "pomegranate    100\n",
       "lentil         100\n",
       "blackgram      100\n",
       "mungbean       100\n",
       "mothbeans      100\n",
       "pigeonpeas     100\n",
       "kidneybeans    100\n",
       "chickpea       100\n",
       "coffee         100\n",
       "Name: label, dtype: int64"
      ]
     },
     "execution_count": 14,
     "metadata": {},
     "output_type": "execute_result"
    }
   ],
   "source": [
    "cd[\"label\"].value_counts()"
   ]
  },
  {
   "cell_type": "markdown",
   "id": "bd542d4b",
   "metadata": {},
   "source": [
    "### Graphical Representation of Data"
   ]
  },
  {
   "cell_type": "markdown",
   "id": "8bef510d",
   "metadata": {},
   "source": [
    "  - Graphical representations, such as plots, charts, and graphs, provide an intuitive and visual way to represent complex data patterns and relationships. By visualizing the data, patterns, trends, clusters, and anomalies can be easily identified, enabling better understanding of the underlying structure and characteristics of the dataset.\n",
    "\n",
    "  - Graphical representations help in analyzing and exploring the relationships between different features or variables in the dataset. Scatter plots, correlation matrices, and heatmaps allow for the identification of dependencies, correlations, and potential interactions between variables. This knowledge aids in feature selection and engineering, as it helps to determine which features are most relevant and influential for the machine learning model.\n",
    "\n"
   ]
  },
  {
   "cell_type": "code",
   "execution_count": 15,
   "id": "a0d514b3",
   "metadata": {},
   "outputs": [
    {
     "data": {
      "image/png": "[encoded data removed]",
      "text/plain": [
       "<Figure size 432x288 with 1 Axes>"
      ]
     },
     "metadata": {},
     "output_type": "display_data"
    }
   ],
   "source": [
    "cd[\"label\"].value_counts().plot.bar(color=['blue','red','green'])\n",
    "plt.title(\"Crop\")\n",
    "plt.xlabel(\"No.of rows\")\n",
    "plt.ylabel(\"no of cols\")\n",
    "plt.show()"
   ]
  },
  {
   "cell_type": "code",
   "execution_count": 16,
   "id": "8dfe1de4",
   "metadata": {},
   "outputs": [],
   "source": [
    "grouped = cd.groupby(\"label\")"
   ]
  },
  {
   "cell_type": "code",
   "execution_count": 17,
   "id": "241ac7d7",
   "metadata": {
    "scrolled": true
   },
   "outputs": [
    {
     "data": {
      "text/plain": [
       "<AxesSubplot:ylabel='label'>"
      ]
     },
     "execution_count": 17,
     "metadata": {},
     "output_type": "execute_result"
    },
    {
     "data": {
      "image/png": "[encoded data removed]",
      "text/plain": [
       "<Figure size 432x288 with 1 Axes>"
      ]
     },
     "metadata": {},
     "output_type": "display_data"
    }
   ],
   "source": [
    "grouped.mean()[\"N\"].plot(kind=\"barh\")"
   ]
  },
  {
   "cell_type": "code",
   "execution_count": 25,
   "id": "2992ccc4",
   "metadata": {},
   "outputs": [
    {
     "data": {
      "text/plain": [
       "<AxesSubplot:ylabel='label'>"
      ]
     },
     "execution_count": 25,
     "metadata": {},
     "output_type": "execute_result"
    },
    {
     "data": {
      "image/png": "[encoded data removed]",
      "text/plain": [
       "<Figure size 432x288 with 1 Axes>"
      ]
     },
     "metadata": {},
     "output_type": "display_data"
    }
   ],
   "source": [
    "grouped.mean()[\"P\"].plot(kind=\"barh\")"
   ]
  },
  {
   "cell_type": "code",
   "execution_count": 26,
   "id": "1ea6266b",
   "metadata": {},
   "outputs": [
    {
     "data": {
      "text/plain": [
       "<AxesSubplot:ylabel='label'>"
      ]
     },
     "execution_count": 26,
     "metadata": {},
     "output_type": "execute_result"
    },
    {
     "data": {
      "image/png": "[encoded data removed]",
      "text/plain": [
       "<Figure size 432x288 with 1 Axes>"
      ]
     },
     "metadata": {},
     "output_type": "display_data"
    }
   ],
   "source": [
    "grouped.mean()[\"K\"].plot(kind=\"barh\")"
   ]
  },
  {
   "cell_type": "code",
   "execution_count": 27,
   "id": "28e06a83",
   "metadata": {},
   "outputs": [
    {
     "data": {
      "text/plain": [
       "<AxesSubplot:ylabel='label'>"
      ]
     },
     "execution_count": 27,
     "metadata": {},
     "output_type": "execute_result"
    },
    {
     "data": {
      "image/png": "[encoded data removed]",
      "text/plain": [
       "<Figure size 432x288 with 1 Axes>"
      ]
     },
     "metadata": {},
     "output_type": "display_data"
    }
   ],
   "source": [
    "grouped.mean()[\"temperature\"].plot(kind=\"barh\")"
   ]
  },
  {
   "cell_type": "code",
   "execution_count": 28,
   "id": "c3204f1b",
   "metadata": {},
   "outputs": [
    {
     "data": {
      "text/plain": [
       "<AxesSubplot:ylabel='label'>"
      ]
     },
     "execution_count": 28,
     "metadata": {},
     "output_type": "execute_result"
    },
    {
     "data": {
      "image/png": "[encoded data removed]",
      "text/plain": [
       "<Figure size 432x288 with 1 Axes>"
      ]
     },
     "metadata": {},
     "output_type": "display_data"
    }
   ],
   "source": [
    "grouped.mean()[\"rainfall\"].plot(kind=\"barh\")\n"
   ]
  },
  {
   "cell_type": "code",
   "execution_count": 29,
   "id": "fcf124f8",
   "metadata": {},
   "outputs": [
    {
     "data": {
      "text/plain": [
       "<AxesSubplot:ylabel='label'>"
      ]
     },
     "execution_count": 29,
     "metadata": {},
     "output_type": "execute_result"
    },
    {
     "data": {
      "image/png": "[encoded data removed]",
      "text/plain": [
       "<Figure size 432x288 with 1 Axes>"
      ]
     },
     "metadata": {},
     "output_type": "display_data"
    }
   ],
   "source": [
    "grouped.mean()[\"humidity\"].plot(kind=\"barh\")\n"
   ]
  },
  {
   "cell_type": "code",
   "execution_count": 30,
   "id": "e9d05a03",
   "metadata": {},
   "outputs": [
    {
     "data": {
      "text/plain": [
       "<AxesSubplot:ylabel='label'>"
      ]
     },
     "execution_count": 30,
     "metadata": {},
     "output_type": "execute_result"
    },
    {
     "data": {
      "image/png": "[encoded data removed]",
      "text/plain": [
       "<Figure size 432x288 with 1 Axes>"
      ]
     },
     "metadata": {},
     "output_type": "display_data"
    }
   ],
   "source": [
    "grouped.mean()[\"ph\"].plot(kind=\"barh\")\n"
   ]
  },
  {
   "cell_type": "markdown",
   "id": "f4900c81",
   "metadata": {},
   "source": [
    "### Imprting Models"
   ]
  },
  {
   "cell_type": "markdown",
   "id": "c518e436",
   "metadata": {},
   "source": [
    "Importing models in machine learning is important as it allows for the utilization of pre-trained models and frameworks, saving time and computational resources. Importing models enables the reuse of established architectures and parameter weights, facilitating transfer learning and fine-tuning. It promotes reproducibility by allowing researchers and practitioners to access and experiment with state-of-the-art models. Importing models also fosters collaboration and knowledge sharing within the machine learning community, as researchers can distribute their trained models for others to use and build upon. Overall, importing models streamlines the development process, promotes innovation, and accelerates the deployment of machine learning solutions"
   ]
  },
  {
   "cell_type": "code",
   "execution_count": 31,
   "id": "5fda8e89",
   "metadata": {},
   "outputs": [],
   "source": [
    "from sklearn.model_selection import train_test_split\n",
    "from sklearn.metrics import accuracy_score, confusion_matrix, ConfusionMatrixDisplay\n",
    "\n",
    "from sklearn.linear_model import LogisticRegression\n",
    "from sklearn.tree import DecisionTreeClassifier, plot_tree\n",
    "from sklearn.ensemble import RandomForestClassifier\n",
    "from sklearn.neighbors import KNeighborsClassifier\n",
    "from sklearn.naive_bayes import GaussianNB\n",
    "from sklearn import svm\n",
    "from sklearn import metrics"
   ]
  },
  {
   "cell_type": "markdown",
   "id": "2061fe45",
   "metadata": {},
   "source": [
    "### Training and Testing Data"
   ]
  },
  {
   "cell_type": "markdown",
   "id": "fefdad60",
   "metadata": {},
   "source": [
    "Training and testing data are essential components in machine learning. Training data is used to train a machine learning model by feeding it with input features and corresponding target labels. The model learns from this data to make predictions. Testing data is a separate set of data used to evaluate the model's performance. It allows us to assess how well the model generalizes to unseen examples. The testing data is independent of the training data and serves as a benchmark for measuring the model's accuracy, precision, recall, and other performance metrics. Proper separation and evaluation of training and testing data are crucial for assessing the model's effectiveness and avoiding overfitting."
   ]
  },
  {
   "cell_type": "code",
   "execution_count": 32,
   "id": "3e6e9055",
   "metadata": {},
   "outputs": [],
   "source": [
    "x=cd[['N', 'P', 'K', 'temperature','humidity','ph','rainfall']]"
   ]
  },
  {
   "cell_type": "code",
   "execution_count": 33,
   "id": "444f7b85",
   "metadata": {},
   "outputs": [
    {
     "data": {
      "text/html": [
       "<div>\n",
       "<style scoped>\n",
       "    .dataframe tbody tr th:only-of-type {\n",
       "        vertical-align: middle;\n",
       "    }\n",
       "\n",
       "    .dataframe tbody tr th {\n",
       "        vertical-align: top;\n",
       "    }\n",
       "\n",
       "    .dataframe thead th {\n",
       "        text-align: right;\n",
       "    }\n",
       "</style>\n",
       "<table border=\"1\" class=\"dataframe\">\n",
       "  <thead>\n",
       "    <tr style=\"text-align: right;\">\n",
       "      <th></th>\n",
       "      <th>N</th>\n",
       "      <th>P</th>\n",
       "      <th>K</th>\n",
       "      <th>temperature</th>\n",
       "      <th>humidity</th>\n",
       "      <th>ph</th>\n",
       "      <th>rainfall</th>\n",
       "    </tr>\n",
       "  </thead>\n",
       "  <tbody>\n",
       "    <tr>\n",
       "      <th>0</th>\n",
       "      <td>90</td>\n",
       "      <td>42</td>\n",
       "      <td>43</td>\n",
       "      <td>20.879744</td>\n",
       "      <td>82.002744</td>\n",
       "      <td>6.502985</td>\n",
       "      <td>202.935536</td>\n",
       "    </tr>\n",
       "    <tr>\n",
       "      <th>1</th>\n",
       "      <td>85</td>\n",
       "      <td>58</td>\n",
       "      <td>41</td>\n",
       "      <td>21.770462</td>\n",
       "      <td>80.319644</td>\n",
       "      <td>7.038096</td>\n",
       "      <td>226.655537</td>\n",
       "    </tr>\n",
       "    <tr>\n",
       "      <th>2</th>\n",
       "      <td>60</td>\n",
       "      <td>55</td>\n",
       "      <td>44</td>\n",
       "      <td>23.004459</td>\n",
       "      <td>82.320763</td>\n",
       "      <td>7.840207</td>\n",
       "      <td>263.964248</td>\n",
       "    </tr>\n",
       "    <tr>\n",
       "      <th>3</th>\n",
       "      <td>74</td>\n",
       "      <td>35</td>\n",
       "      <td>40</td>\n",
       "      <td>26.491096</td>\n",
       "      <td>80.158363</td>\n",
       "      <td>6.980401</td>\n",
       "      <td>242.864034</td>\n",
       "    </tr>\n",
       "    <tr>\n",
       "      <th>4</th>\n",
       "      <td>78</td>\n",
       "      <td>42</td>\n",
       "      <td>42</td>\n",
       "      <td>20.130175</td>\n",
       "      <td>81.604873</td>\n",
       "      <td>7.628473</td>\n",
       "      <td>262.717340</td>\n",
       "    </tr>\n",
       "    <tr>\n",
       "      <th>...</th>\n",
       "      <td>...</td>\n",
       "      <td>...</td>\n",
       "      <td>...</td>\n",
       "      <td>...</td>\n",
       "      <td>...</td>\n",
       "      <td>...</td>\n",
       "      <td>...</td>\n",
       "    </tr>\n",
       "    <tr>\n",
       "      <th>2195</th>\n",
       "      <td>107</td>\n",
       "      <td>34</td>\n",
       "      <td>32</td>\n",
       "      <td>26.774637</td>\n",
       "      <td>66.413269</td>\n",
       "      <td>6.780064</td>\n",
       "      <td>177.774507</td>\n",
       "    </tr>\n",
       "    <tr>\n",
       "      <th>2196</th>\n",
       "      <td>99</td>\n",
       "      <td>15</td>\n",
       "      <td>27</td>\n",
       "      <td>27.417112</td>\n",
       "      <td>56.636362</td>\n",
       "      <td>6.086922</td>\n",
       "      <td>127.924610</td>\n",
       "    </tr>\n",
       "    <tr>\n",
       "      <th>2197</th>\n",
       "      <td>118</td>\n",
       "      <td>33</td>\n",
       "      <td>30</td>\n",
       "      <td>24.131797</td>\n",
       "      <td>67.225123</td>\n",
       "      <td>6.362608</td>\n",
       "      <td>173.322839</td>\n",
       "    </tr>\n",
       "    <tr>\n",
       "      <th>2198</th>\n",
       "      <td>117</td>\n",
       "      <td>32</td>\n",
       "      <td>34</td>\n",
       "      <td>26.272418</td>\n",
       "      <td>52.127394</td>\n",
       "      <td>6.758793</td>\n",
       "      <td>127.175293</td>\n",
       "    </tr>\n",
       "    <tr>\n",
       "      <th>2199</th>\n",
       "      <td>104</td>\n",
       "      <td>18</td>\n",
       "      <td>30</td>\n",
       "      <td>23.603016</td>\n",
       "      <td>60.396475</td>\n",
       "      <td>6.779833</td>\n",
       "      <td>140.937041</td>\n",
       "    </tr>\n",
       "  </tbody>\n",
       "</table>\n",
       "<p>2200 rows × 7 columns</p>\n",
       "</div>"
      ],
      "text/plain": [
       "        N   P   K  temperature   humidity        ph    rainfall\n",
       "0      90  42  43    20.879744  82.002744  6.502985  202.935536\n",
       "1      85  58  41    21.770462  80.319644  7.038096  226.655537\n",
       "2      60  55  44    23.004459  82.320763  7.840207  263.964248\n",
       "3      74  35  40    26.491096  80.158363  6.980401  242.864034\n",
       "4      78  42  42    20.130175  81.604873  7.628473  262.717340\n",
       "...   ...  ..  ..          ...        ...       ...         ...\n",
       "2195  107  34  32    26.774637  66.413269  6.780064  177.774507\n",
       "2196   99  15  27    27.417112  56.636362  6.086922  127.924610\n",
       "2197  118  33  30    24.131797  67.225123  6.362608  173.322839\n",
       "2198  117  32  34    26.272418  52.127394  6.758793  127.175293\n",
       "2199  104  18  30    23.603016  60.396475  6.779833  140.937041\n",
       "\n",
       "[2200 rows x 7 columns]"
      ]
     },
     "execution_count": 33,
     "metadata": {},
     "output_type": "execute_result"
    }
   ],
   "source": [
    "x"
   ]
  },
  {
   "cell_type": "code",
   "execution_count": 34,
   "id": "6219d946",
   "metadata": {},
   "outputs": [],
   "source": [
    "y=cd[['label']]"
   ]
  },
  {
   "cell_type": "code",
   "execution_count": 35,
   "id": "fc9fa6e9",
   "metadata": {},
   "outputs": [
    {
     "data": {
      "text/html": [
       "<div>\n",
       "<style scoped>\n",
       "    .dataframe tbody tr th:only-of-type {\n",
       "        vertical-align: middle;\n",
       "    }\n",
       "\n",
       "    .dataframe tbody tr th {\n",
       "        vertical-align: top;\n",
       "    }\n",
       "\n",
       "    .dataframe thead th {\n",
       "        text-align: right;\n",
       "    }\n",
       "</style>\n",
       "<table border=\"1\" class=\"dataframe\">\n",
       "  <thead>\n",
       "    <tr style=\"text-align: right;\">\n",
       "      <th></th>\n",
       "      <th>label</th>\n",
       "    </tr>\n",
       "  </thead>\n",
       "  <tbody>\n",
       "    <tr>\n",
       "      <th>0</th>\n",
       "      <td>rice</td>\n",
       "    </tr>\n",
       "    <tr>\n",
       "      <th>1</th>\n",
       "      <td>rice</td>\n",
       "    </tr>\n",
       "    <tr>\n",
       "      <th>2</th>\n",
       "      <td>rice</td>\n",
       "    </tr>\n",
       "    <tr>\n",
       "      <th>3</th>\n",
       "      <td>rice</td>\n",
       "    </tr>\n",
       "    <tr>\n",
       "      <th>4</th>\n",
       "      <td>rice</td>\n",
       "    </tr>\n",
       "    <tr>\n",
       "      <th>...</th>\n",
       "      <td>...</td>\n",
       "    </tr>\n",
       "    <tr>\n",
       "      <th>2195</th>\n",
       "      <td>coffee</td>\n",
       "    </tr>\n",
       "    <tr>\n",
       "      <th>2196</th>\n",
       "      <td>coffee</td>\n",
       "    </tr>\n",
       "    <tr>\n",
       "      <th>2197</th>\n",
       "      <td>coffee</td>\n",
       "    </tr>\n",
       "    <tr>\n",
       "      <th>2198</th>\n",
       "      <td>coffee</td>\n",
       "    </tr>\n",
       "    <tr>\n",
       "      <th>2199</th>\n",
       "      <td>coffee</td>\n",
       "    </tr>\n",
       "  </tbody>\n",
       "</table>\n",
       "<p>2200 rows × 1 columns</p>\n",
       "</div>"
      ],
      "text/plain": [
       "       label\n",
       "0       rice\n",
       "1       rice\n",
       "2       rice\n",
       "3       rice\n",
       "4       rice\n",
       "...      ...\n",
       "2195  coffee\n",
       "2196  coffee\n",
       "2197  coffee\n",
       "2198  coffee\n",
       "2199  coffee\n",
       "\n",
       "[2200 rows x 1 columns]"
      ]
     },
     "execution_count": 35,
     "metadata": {},
     "output_type": "execute_result"
    }
   ],
   "source": [
    "y"
   ]
  },
  {
   "cell_type": "code",
   "execution_count": 36,
   "id": "9fe16c5c",
   "metadata": {},
   "outputs": [],
   "source": [
    "x_train,x_test,y_train,y_test=train_test_split(x,y,test_size=0.25,random_state=15)"
   ]
  },
  {
   "cell_type": "code",
   "execution_count": 37,
   "id": "59b69142",
   "metadata": {},
   "outputs": [
    {
     "data": {
      "text/html": [
       "<div>\n",
       "<style scoped>\n",
       "    .dataframe tbody tr th:only-of-type {\n",
       "        vertical-align: middle;\n",
       "    }\n",
       "\n",
       "    .dataframe tbody tr th {\n",
       "        vertical-align: top;\n",
       "    }\n",
       "\n",
       "    .dataframe thead th {\n",
       "        text-align: right;\n",
       "    }\n",
       "</style>\n",
       "<table border=\"1\" class=\"dataframe\">\n",
       "  <thead>\n",
       "    <tr style=\"text-align: right;\">\n",
       "      <th></th>\n",
       "      <th>N</th>\n",
       "      <th>P</th>\n",
       "      <th>K</th>\n",
       "      <th>temperature</th>\n",
       "      <th>humidity</th>\n",
       "      <th>ph</th>\n",
       "      <th>rainfall</th>\n",
       "    </tr>\n",
       "  </thead>\n",
       "  <tbody>\n",
       "    <tr>\n",
       "      <th>1314</th>\n",
       "      <td>104</td>\n",
       "      <td>17</td>\n",
       "      <td>46</td>\n",
       "      <td>25.713143</td>\n",
       "      <td>80.229728</td>\n",
       "      <td>6.190016</td>\n",
       "      <td>43.089618</td>\n",
       "    </tr>\n",
       "    <tr>\n",
       "      <th>573</th>\n",
       "      <td>26</td>\n",
       "      <td>51</td>\n",
       "      <td>25</td>\n",
       "      <td>28.764890</td>\n",
       "      <td>52.627415</td>\n",
       "      <td>7.792508</td>\n",
       "      <td>55.216067</td>\n",
       "    </tr>\n",
       "    <tr>\n",
       "      <th>320</th>\n",
       "      <td>19</td>\n",
       "      <td>78</td>\n",
       "      <td>16</td>\n",
       "      <td>20.653758</td>\n",
       "      <td>23.105386</td>\n",
       "      <td>5.967533</td>\n",
       "      <td>67.717689</td>\n",
       "    </tr>\n",
       "    <tr>\n",
       "      <th>923</th>\n",
       "      <td>9</td>\n",
       "      <td>16</td>\n",
       "      <td>39</td>\n",
       "      <td>18.411644</td>\n",
       "      <td>91.119272</td>\n",
       "      <td>6.101199</td>\n",
       "      <td>105.183498</td>\n",
       "    </tr>\n",
       "    <tr>\n",
       "      <th>791</th>\n",
       "      <td>59</td>\n",
       "      <td>58</td>\n",
       "      <td>17</td>\n",
       "      <td>28.546224</td>\n",
       "      <td>66.313941</td>\n",
       "      <td>7.368319</td>\n",
       "      <td>62.834699</td>\n",
       "    </tr>\n",
       "    <tr>\n",
       "      <th>...</th>\n",
       "      <td>...</td>\n",
       "      <td>...</td>\n",
       "      <td>...</td>\n",
       "      <td>...</td>\n",
       "      <td>...</td>\n",
       "      <td>...</td>\n",
       "      <td>...</td>\n",
       "    </tr>\n",
       "    <tr>\n",
       "      <th>221</th>\n",
       "      <td>25</td>\n",
       "      <td>68</td>\n",
       "      <td>77</td>\n",
       "      <td>20.093406</td>\n",
       "      <td>15.112796</td>\n",
       "      <td>7.701446</td>\n",
       "      <td>85.749049</td>\n",
       "    </tr>\n",
       "    <tr>\n",
       "      <th>943</th>\n",
       "      <td>38</td>\n",
       "      <td>21</td>\n",
       "      <td>35</td>\n",
       "      <td>20.336911</td>\n",
       "      <td>89.380038</td>\n",
       "      <td>5.841367</td>\n",
       "      <td>110.965314</td>\n",
       "    </tr>\n",
       "    <tr>\n",
       "      <th>630</th>\n",
       "      <td>35</td>\n",
       "      <td>41</td>\n",
       "      <td>18</td>\n",
       "      <td>28.705627</td>\n",
       "      <td>81.592007</td>\n",
       "      <td>6.705009</td>\n",
       "      <td>59.870654</td>\n",
       "    </tr>\n",
       "    <tr>\n",
       "      <th>2133</th>\n",
       "      <td>82</td>\n",
       "      <td>24</td>\n",
       "      <td>33</td>\n",
       "      <td>26.535432</td>\n",
       "      <td>67.096081</td>\n",
       "      <td>6.809594</td>\n",
       "      <td>120.649443</td>\n",
       "    </tr>\n",
       "    <tr>\n",
       "      <th>1739</th>\n",
       "      <td>50</td>\n",
       "      <td>47</td>\n",
       "      <td>48</td>\n",
       "      <td>24.636769</td>\n",
       "      <td>90.619643</td>\n",
       "      <td>6.712772</td>\n",
       "      <td>218.229919</td>\n",
       "    </tr>\n",
       "  </tbody>\n",
       "</table>\n",
       "<p>1650 rows × 7 columns</p>\n",
       "</div>"
      ],
      "text/plain": [
       "        N   P   K  temperature   humidity        ph    rainfall\n",
       "1314  104  17  46    25.713143  80.229728  6.190016   43.089618\n",
       "573    26  51  25    28.764890  52.627415  7.792508   55.216067\n",
       "320    19  78  16    20.653758  23.105386  5.967533   67.717689\n",
       "923     9  16  39    18.411644  91.119272  6.101199  105.183498\n",
       "791    59  58  17    28.546224  66.313941  7.368319   62.834699\n",
       "...   ...  ..  ..          ...        ...       ...         ...\n",
       "221    25  68  77    20.093406  15.112796  7.701446   85.749049\n",
       "943    38  21  35    20.336911  89.380038  5.841367  110.965314\n",
       "630    35  41  18    28.705627  81.592007  6.705009   59.870654\n",
       "2133   82  24  33    26.535432  67.096081  6.809594  120.649443\n",
       "1739   50  47  48    24.636769  90.619643  6.712772  218.229919\n",
       "\n",
       "[1650 rows x 7 columns]"
      ]
     },
     "execution_count": 37,
     "metadata": {},
     "output_type": "execute_result"
    }
   ],
   "source": [
    "x_train"
   ]
  },
  {
   "cell_type": "code",
   "execution_count": 38,
   "id": "d100a788",
   "metadata": {},
   "outputs": [
    {
     "data": {
      "text/html": [
       "<div>\n",
       "<style scoped>\n",
       "    .dataframe tbody tr th:only-of-type {\n",
       "        vertical-align: middle;\n",
       "    }\n",
       "\n",
       "    .dataframe tbody tr th {\n",
       "        vertical-align: top;\n",
       "    }\n",
       "\n",
       "    .dataframe thead th {\n",
       "        text-align: right;\n",
       "    }\n",
       "</style>\n",
       "<table border=\"1\" class=\"dataframe\">\n",
       "  <thead>\n",
       "    <tr style=\"text-align: right;\">\n",
       "      <th></th>\n",
       "      <th>N</th>\n",
       "      <th>P</th>\n",
       "      <th>K</th>\n",
       "      <th>temperature</th>\n",
       "      <th>humidity</th>\n",
       "      <th>ph</th>\n",
       "      <th>rainfall</th>\n",
       "    </tr>\n",
       "  </thead>\n",
       "  <tbody>\n",
       "    <tr>\n",
       "      <th>1123</th>\n",
       "      <td>28</td>\n",
       "      <td>37</td>\n",
       "      <td>28</td>\n",
       "      <td>32.134097</td>\n",
       "      <td>50.525591</td>\n",
       "      <td>6.097870</td>\n",
       "      <td>98.633337</td>\n",
       "    </tr>\n",
       "    <tr>\n",
       "      <th>1754</th>\n",
       "      <td>40</td>\n",
       "      <td>65</td>\n",
       "      <td>49</td>\n",
       "      <td>35.328764</td>\n",
       "      <td>91.061385</td>\n",
       "      <td>6.678449</td>\n",
       "      <td>163.906937</td>\n",
       "    </tr>\n",
       "    <tr>\n",
       "      <th>442</th>\n",
       "      <td>2</td>\n",
       "      <td>67</td>\n",
       "      <td>18</td>\n",
       "      <td>34.519348</td>\n",
       "      <td>47.529800</td>\n",
       "      <td>5.921667</td>\n",
       "      <td>129.006461</td>\n",
       "    </tr>\n",
       "    <tr>\n",
       "      <th>2013</th>\n",
       "      <td>60</td>\n",
       "      <td>55</td>\n",
       "      <td>40</td>\n",
       "      <td>24.994996</td>\n",
       "      <td>88.956928</td>\n",
       "      <td>7.027780</td>\n",
       "      <td>151.493563</td>\n",
       "    </tr>\n",
       "    <tr>\n",
       "      <th>1388</th>\n",
       "      <td>110</td>\n",
       "      <td>21</td>\n",
       "      <td>54</td>\n",
       "      <td>26.736908</td>\n",
       "      <td>87.824302</td>\n",
       "      <td>6.747538</td>\n",
       "      <td>47.464470</td>\n",
       "    </tr>\n",
       "    <tr>\n",
       "      <th>...</th>\n",
       "      <td>...</td>\n",
       "      <td>...</td>\n",
       "      <td>...</td>\n",
       "      <td>...</td>\n",
       "      <td>...</td>\n",
       "      <td>...</td>\n",
       "      <td>...</td>\n",
       "    </tr>\n",
       "    <tr>\n",
       "      <th>146</th>\n",
       "      <td>61</td>\n",
       "      <td>60</td>\n",
       "      <td>15</td>\n",
       "      <td>24.875028</td>\n",
       "      <td>68.742483</td>\n",
       "      <td>6.265564</td>\n",
       "      <td>91.260567</td>\n",
       "    </tr>\n",
       "    <tr>\n",
       "      <th>1229</th>\n",
       "      <td>23</td>\n",
       "      <td>142</td>\n",
       "      <td>197</td>\n",
       "      <td>39.065555</td>\n",
       "      <td>82.038130</td>\n",
       "      <td>6.000574</td>\n",
       "      <td>69.307729</td>\n",
       "    </tr>\n",
       "    <tr>\n",
       "      <th>583</th>\n",
       "      <td>29</td>\n",
       "      <td>41</td>\n",
       "      <td>21</td>\n",
       "      <td>31.493981</td>\n",
       "      <td>62.849169</td>\n",
       "      <td>8.869797</td>\n",
       "      <td>64.568076</td>\n",
       "    </tr>\n",
       "    <tr>\n",
       "      <th>1697</th>\n",
       "      <td>6</td>\n",
       "      <td>7</td>\n",
       "      <td>7</td>\n",
       "      <td>27.681673</td>\n",
       "      <td>94.473169</td>\n",
       "      <td>7.199106</td>\n",
       "      <td>113.999515</td>\n",
       "    </tr>\n",
       "    <tr>\n",
       "      <th>998</th>\n",
       "      <td>39</td>\n",
       "      <td>24</td>\n",
       "      <td>39</td>\n",
       "      <td>23.653741</td>\n",
       "      <td>93.326575</td>\n",
       "      <td>6.431266</td>\n",
       "      <td>109.807618</td>\n",
       "    </tr>\n",
       "  </tbody>\n",
       "</table>\n",
       "<p>550 rows × 7 columns</p>\n",
       "</div>"
      ],
      "text/plain": [
       "        N    P    K  temperature   humidity        ph    rainfall\n",
       "1123   28   37   28    32.134097  50.525591  6.097870   98.633337\n",
       "1754   40   65   49    35.328764  91.061385  6.678449  163.906937\n",
       "442     2   67   18    34.519348  47.529800  5.921667  129.006461\n",
       "2013   60   55   40    24.994996  88.956928  7.027780  151.493563\n",
       "1388  110   21   54    26.736908  87.824302  6.747538   47.464470\n",
       "...   ...  ...  ...          ...        ...       ...         ...\n",
       "146    61   60   15    24.875028  68.742483  6.265564   91.260567\n",
       "1229   23  142  197    39.065555  82.038130  6.000574   69.307729\n",
       "583    29   41   21    31.493981  62.849169  8.869797   64.568076\n",
       "1697    6    7    7    27.681673  94.473169  7.199106  113.999515\n",
       "998    39   24   39    23.653741  93.326575  6.431266  109.807618\n",
       "\n",
       "[550 rows x 7 columns]"
      ]
     },
     "execution_count": 38,
     "metadata": {},
     "output_type": "execute_result"
    }
   ],
   "source": [
    "x_test"
   ]
  },
  {
   "cell_type": "code",
   "execution_count": 39,
   "id": "7e6c6efa",
   "metadata": {},
   "outputs": [
    {
     "data": {
      "text/html": [
       "<div>\n",
       "<style scoped>\n",
       "    .dataframe tbody tr th:only-of-type {\n",
       "        vertical-align: middle;\n",
       "    }\n",
       "\n",
       "    .dataframe tbody tr th {\n",
       "        vertical-align: top;\n",
       "    }\n",
       "\n",
       "    .dataframe thead th {\n",
       "        text-align: right;\n",
       "    }\n",
       "</style>\n",
       "<table border=\"1\" class=\"dataframe\">\n",
       "  <thead>\n",
       "    <tr style=\"text-align: right;\">\n",
       "      <th></th>\n",
       "      <th>label</th>\n",
       "    </tr>\n",
       "  </thead>\n",
       "  <tbody>\n",
       "    <tr>\n",
       "      <th>1314</th>\n",
       "      <td>watermelon</td>\n",
       "    </tr>\n",
       "    <tr>\n",
       "      <th>573</th>\n",
       "      <td>mothbeans</td>\n",
       "    </tr>\n",
       "    <tr>\n",
       "      <th>320</th>\n",
       "      <td>kidneybeans</td>\n",
       "    </tr>\n",
       "    <tr>\n",
       "      <th>923</th>\n",
       "      <td>pomegranate</td>\n",
       "    </tr>\n",
       "    <tr>\n",
       "      <th>791</th>\n",
       "      <td>blackgram</td>\n",
       "    </tr>\n",
       "    <tr>\n",
       "      <th>...</th>\n",
       "      <td>...</td>\n",
       "    </tr>\n",
       "    <tr>\n",
       "      <th>221</th>\n",
       "      <td>chickpea</td>\n",
       "    </tr>\n",
       "    <tr>\n",
       "      <th>943</th>\n",
       "      <td>pomegranate</td>\n",
       "    </tr>\n",
       "    <tr>\n",
       "      <th>630</th>\n",
       "      <td>mungbean</td>\n",
       "    </tr>\n",
       "    <tr>\n",
       "      <th>2133</th>\n",
       "      <td>coffee</td>\n",
       "    </tr>\n",
       "    <tr>\n",
       "      <th>1739</th>\n",
       "      <td>papaya</td>\n",
       "    </tr>\n",
       "  </tbody>\n",
       "</table>\n",
       "<p>1650 rows × 1 columns</p>\n",
       "</div>"
      ],
      "text/plain": [
       "            label\n",
       "1314   watermelon\n",
       "573     mothbeans\n",
       "320   kidneybeans\n",
       "923   pomegranate\n",
       "791     blackgram\n",
       "...           ...\n",
       "221      chickpea\n",
       "943   pomegranate\n",
       "630      mungbean\n",
       "2133       coffee\n",
       "1739       papaya\n",
       "\n",
       "[1650 rows x 1 columns]"
      ]
     },
     "execution_count": 39,
     "metadata": {},
     "output_type": "execute_result"
    }
   ],
   "source": [
    "y_train"
   ]
  },
  {
   "cell_type": "code",
   "execution_count": 40,
   "id": "4d4d2487",
   "metadata": {},
   "outputs": [
    {
     "data": {
      "text/html": [
       "<div>\n",
       "<style scoped>\n",
       "    .dataframe tbody tr th:only-of-type {\n",
       "        vertical-align: middle;\n",
       "    }\n",
       "\n",
       "    .dataframe tbody tr th {\n",
       "        vertical-align: top;\n",
       "    }\n",
       "\n",
       "    .dataframe thead th {\n",
       "        text-align: right;\n",
       "    }\n",
       "</style>\n",
       "<table border=\"1\" class=\"dataframe\">\n",
       "  <thead>\n",
       "    <tr style=\"text-align: right;\">\n",
       "      <th></th>\n",
       "      <th>label</th>\n",
       "    </tr>\n",
       "  </thead>\n",
       "  <tbody>\n",
       "    <tr>\n",
       "      <th>1123</th>\n",
       "      <td>mango</td>\n",
       "    </tr>\n",
       "    <tr>\n",
       "      <th>1754</th>\n",
       "      <td>papaya</td>\n",
       "    </tr>\n",
       "    <tr>\n",
       "      <th>442</th>\n",
       "      <td>pigeonpeas</td>\n",
       "    </tr>\n",
       "    <tr>\n",
       "      <th>2013</th>\n",
       "      <td>jute</td>\n",
       "    </tr>\n",
       "    <tr>\n",
       "      <th>1388</th>\n",
       "      <td>watermelon</td>\n",
       "    </tr>\n",
       "    <tr>\n",
       "      <th>...</th>\n",
       "      <td>...</td>\n",
       "    </tr>\n",
       "    <tr>\n",
       "      <th>146</th>\n",
       "      <td>maize</td>\n",
       "    </tr>\n",
       "    <tr>\n",
       "      <th>1229</th>\n",
       "      <td>grapes</td>\n",
       "    </tr>\n",
       "    <tr>\n",
       "      <th>583</th>\n",
       "      <td>mothbeans</td>\n",
       "    </tr>\n",
       "    <tr>\n",
       "      <th>1697</th>\n",
       "      <td>orange</td>\n",
       "    </tr>\n",
       "    <tr>\n",
       "      <th>998</th>\n",
       "      <td>pomegranate</td>\n",
       "    </tr>\n",
       "  </tbody>\n",
       "</table>\n",
       "<p>550 rows × 1 columns</p>\n",
       "</div>"
      ],
      "text/plain": [
       "            label\n",
       "1123        mango\n",
       "1754       papaya\n",
       "442    pigeonpeas\n",
       "2013         jute\n",
       "1388   watermelon\n",
       "...           ...\n",
       "146         maize\n",
       "1229       grapes\n",
       "583     mothbeans\n",
       "1697       orange\n",
       "998   pomegranate\n",
       "\n",
       "[550 rows x 1 columns]"
      ]
     },
     "execution_count": 40,
     "metadata": {},
     "output_type": "execute_result"
    }
   ],
   "source": [
    "y_test"
   ]
  },
  {
   "cell_type": "code",
   "execution_count": 41,
   "id": "99c9b68f",
   "metadata": {},
   "outputs": [
    {
     "data": {
      "text/plain": [
       "(1650, 7)"
      ]
     },
     "execution_count": 41,
     "metadata": {},
     "output_type": "execute_result"
    }
   ],
   "source": [
    "x_train.shape\n"
   ]
  },
  {
   "cell_type": "code",
   "execution_count": 42,
   "id": "d4df016c",
   "metadata": {},
   "outputs": [
    {
     "data": {
      "text/plain": [
       "(550, 7)"
      ]
     },
     "execution_count": 42,
     "metadata": {},
     "output_type": "execute_result"
    }
   ],
   "source": [
    "x_test.shape\n"
   ]
  },
  {
   "cell_type": "code",
   "execution_count": 43,
   "id": "e2f7735b",
   "metadata": {},
   "outputs": [
    {
     "data": {
      "text/plain": [
       "(1650, 1)"
      ]
     },
     "execution_count": 43,
     "metadata": {},
     "output_type": "execute_result"
    }
   ],
   "source": [
    "y_train.shape\n"
   ]
  },
  {
   "cell_type": "code",
   "execution_count": 44,
   "id": "317526ac",
   "metadata": {},
   "outputs": [
    {
     "data": {
      "text/plain": [
       "(550, 1)"
      ]
     },
     "execution_count": 44,
     "metadata": {},
     "output_type": "execute_result"
    }
   ],
   "source": [
    "y_test.shape"
   ]
  },
  {
   "cell_type": "code",
   "execution_count": 45,
   "id": "640f2ff9",
   "metadata": {},
   "outputs": [],
   "source": [
    "Keshav=LogisticRegression()"
   ]
  },
  {
   "cell_type": "code",
   "execution_count": 46,
   "id": "d0159fba",
   "metadata": {},
   "outputs": [
    {
     "data": {
      "text/plain": [
       "LogisticRegression()"
      ]
     },
     "execution_count": 46,
     "metadata": {},
     "output_type": "execute_result"
    }
   ],
   "source": [
    "Keshav"
   ]
  },
  {
   "cell_type": "code",
   "execution_count": 47,
   "id": "bb255826",
   "metadata": {},
   "outputs": [
    {
     "data": {
      "text/plain": [
       "LogisticRegression()"
      ]
     },
     "execution_count": 47,
     "metadata": {},
     "output_type": "execute_result"
    }
   ],
   "source": [
    "Keshav.fit(x_train,y_train)"
   ]
  },
  {
   "cell_type": "code",
   "execution_count": 48,
   "id": "6d8fd9df",
   "metadata": {},
   "outputs": [
    {
     "data": {
      "text/html": [
       "<div>\n",
       "<style scoped>\n",
       "    .dataframe tbody tr th:only-of-type {\n",
       "        vertical-align: middle;\n",
       "    }\n",
       "\n",
       "    .dataframe tbody tr th {\n",
       "        vertical-align: top;\n",
       "    }\n",
       "\n",
       "    .dataframe thead th {\n",
       "        text-align: right;\n",
       "    }\n",
       "</style>\n",
       "<table border=\"1\" class=\"dataframe\">\n",
       "  <thead>\n",
       "    <tr style=\"text-align: right;\">\n",
       "      <th></th>\n",
       "      <th>N</th>\n",
       "      <th>P</th>\n",
       "      <th>K</th>\n",
       "      <th>temperature</th>\n",
       "      <th>humidity</th>\n",
       "      <th>ph</th>\n",
       "      <th>rainfall</th>\n",
       "    </tr>\n",
       "  </thead>\n",
       "  <tbody>\n",
       "    <tr>\n",
       "      <th>1123</th>\n",
       "      <td>28</td>\n",
       "      <td>37</td>\n",
       "      <td>28</td>\n",
       "      <td>32.134097</td>\n",
       "      <td>50.525591</td>\n",
       "      <td>6.097870</td>\n",
       "      <td>98.633337</td>\n",
       "    </tr>\n",
       "    <tr>\n",
       "      <th>1754</th>\n",
       "      <td>40</td>\n",
       "      <td>65</td>\n",
       "      <td>49</td>\n",
       "      <td>35.328764</td>\n",
       "      <td>91.061385</td>\n",
       "      <td>6.678449</td>\n",
       "      <td>163.906937</td>\n",
       "    </tr>\n",
       "    <tr>\n",
       "      <th>442</th>\n",
       "      <td>2</td>\n",
       "      <td>67</td>\n",
       "      <td>18</td>\n",
       "      <td>34.519348</td>\n",
       "      <td>47.529800</td>\n",
       "      <td>5.921667</td>\n",
       "      <td>129.006461</td>\n",
       "    </tr>\n",
       "    <tr>\n",
       "      <th>2013</th>\n",
       "      <td>60</td>\n",
       "      <td>55</td>\n",
       "      <td>40</td>\n",
       "      <td>24.994996</td>\n",
       "      <td>88.956928</td>\n",
       "      <td>7.027780</td>\n",
       "      <td>151.493563</td>\n",
       "    </tr>\n",
       "    <tr>\n",
       "      <th>1388</th>\n",
       "      <td>110</td>\n",
       "      <td>21</td>\n",
       "      <td>54</td>\n",
       "      <td>26.736908</td>\n",
       "      <td>87.824302</td>\n",
       "      <td>6.747538</td>\n",
       "      <td>47.464470</td>\n",
       "    </tr>\n",
       "    <tr>\n",
       "      <th>...</th>\n",
       "      <td>...</td>\n",
       "      <td>...</td>\n",
       "      <td>...</td>\n",
       "      <td>...</td>\n",
       "      <td>...</td>\n",
       "      <td>...</td>\n",
       "      <td>...</td>\n",
       "    </tr>\n",
       "    <tr>\n",
       "      <th>146</th>\n",
       "      <td>61</td>\n",
       "      <td>60</td>\n",
       "      <td>15</td>\n",
       "      <td>24.875028</td>\n",
       "      <td>68.742483</td>\n",
       "      <td>6.265564</td>\n",
       "      <td>91.260567</td>\n",
       "    </tr>\n",
       "    <tr>\n",
       "      <th>1229</th>\n",
       "      <td>23</td>\n",
       "      <td>142</td>\n",
       "      <td>197</td>\n",
       "      <td>39.065555</td>\n",
       "      <td>82.038130</td>\n",
       "      <td>6.000574</td>\n",
       "      <td>69.307729</td>\n",
       "    </tr>\n",
       "    <tr>\n",
       "      <th>583</th>\n",
       "      <td>29</td>\n",
       "      <td>41</td>\n",
       "      <td>21</td>\n",
       "      <td>31.493981</td>\n",
       "      <td>62.849169</td>\n",
       "      <td>8.869797</td>\n",
       "      <td>64.568076</td>\n",
       "    </tr>\n",
       "    <tr>\n",
       "      <th>1697</th>\n",
       "      <td>6</td>\n",
       "      <td>7</td>\n",
       "      <td>7</td>\n",
       "      <td>27.681673</td>\n",
       "      <td>94.473169</td>\n",
       "      <td>7.199106</td>\n",
       "      <td>113.999515</td>\n",
       "    </tr>\n",
       "    <tr>\n",
       "      <th>998</th>\n",
       "      <td>39</td>\n",
       "      <td>24</td>\n",
       "      <td>39</td>\n",
       "      <td>23.653741</td>\n",
       "      <td>93.326575</td>\n",
       "      <td>6.431266</td>\n",
       "      <td>109.807618</td>\n",
       "    </tr>\n",
       "  </tbody>\n",
       "</table>\n",
       "<p>550 rows × 7 columns</p>\n",
       "</div>"
      ],
      "text/plain": [
       "        N    P    K  temperature   humidity        ph    rainfall\n",
       "1123   28   37   28    32.134097  50.525591  6.097870   98.633337\n",
       "1754   40   65   49    35.328764  91.061385  6.678449  163.906937\n",
       "442     2   67   18    34.519348  47.529800  5.921667  129.006461\n",
       "2013   60   55   40    24.994996  88.956928  7.027780  151.493563\n",
       "1388  110   21   54    26.736908  87.824302  6.747538   47.464470\n",
       "...   ...  ...  ...          ...        ...       ...         ...\n",
       "146    61   60   15    24.875028  68.742483  6.265564   91.260567\n",
       "1229   23  142  197    39.065555  82.038130  6.000574   69.307729\n",
       "583    29   41   21    31.493981  62.849169  8.869797   64.568076\n",
       "1697    6    7    7    27.681673  94.473169  7.199106  113.999515\n",
       "998    39   24   39    23.653741  93.326575  6.431266  109.807618\n",
       "\n",
       "[550 rows x 7 columns]"
      ]
     },
     "execution_count": 48,
     "metadata": {},
     "output_type": "execute_result"
    }
   ],
   "source": [
    "x_test"
   ]
  },
  {
   "cell_type": "code",
   "execution_count": 49,
   "id": "9196afa7",
   "metadata": {},
   "outputs": [],
   "source": [
    "y_pred=Keshav.predict(x_test)"
   ]
  },
  {
   "cell_type": "code",
   "execution_count": 50,
   "id": "776f8f6a",
   "metadata": {
    "scrolled": true
   },
   "outputs": [
    {
     "data": {
      "text/plain": [
       "array(['mango', 'papaya', 'pigeonpeas', 'papaya', 'watermelon', 'coconut',\n",
       "       'watermelon', 'lentil', 'lentil', 'grapes', 'cotton',\n",
       "       'pomegranate', 'mungbean', 'grapes', 'orange', 'pigeonpeas',\n",
       "       'pigeonpeas', 'cotton', 'cotton', 'grapes', 'mungbean', 'cotton',\n",
       "       'papaya', 'rice', 'muskmelon', 'papaya', 'kidneybeans', 'coffee',\n",
       "       'banana', 'chickpea', 'cotton', 'mothbeans', 'watermelon',\n",
       "       'banana', 'jute', 'coffee', 'chickpea', 'kidneybeans', 'cotton',\n",
       "       'mungbean', 'muskmelon', 'pigeonpeas', 'kidneybeans', 'cotton',\n",
       "       'coffee', 'apple', 'jute', 'lentil', 'cotton', 'cotton', 'lentil',\n",
       "       'papaya', 'lentil', 'mothbeans', 'lentil', 'mothbeans',\n",
       "       'pigeonpeas', 'coffee', 'papaya', 'chickpea', 'kidneybeans',\n",
       "       'watermelon', 'jute', 'pomegranate', 'banana', 'orange', 'apple',\n",
       "       'muskmelon', 'mungbean', 'grapes', 'mango', 'pomegranate',\n",
       "       'lentil', 'papaya', 'pomegranate', 'muskmelon', 'coconut',\n",
       "       'coffee', 'chickpea', 'cotton', 'coconut', 'grapes', 'grapes',\n",
       "       'maize', 'cotton', 'watermelon', 'cotton', 'maize', 'coconut',\n",
       "       'coconut', 'chickpea', 'watermelon', 'blackgram', 'orange',\n",
       "       'muskmelon', 'apple', 'kidneybeans', 'lentil', 'pomegranate',\n",
       "       'blackgram', 'kidneybeans', 'grapes', 'pomegranate', 'watermelon',\n",
       "       'grapes', 'lentil', 'jute', 'orange', 'pigeonpeas', 'mothbeans',\n",
       "       'grapes', 'pigeonpeas', 'pigeonpeas', 'rice', 'coffee', 'lentil',\n",
       "       'banana', 'chickpea', 'rice', 'pigeonpeas', 'orange', 'mothbeans',\n",
       "       'mango', 'lentil', 'blackgram', 'kidneybeans', 'cotton',\n",
       "       'pigeonpeas', 'mungbean', 'watermelon', 'orange', 'apple', 'jute',\n",
       "       'maize', 'mango', 'watermelon', 'mothbeans', 'papaya', 'grapes',\n",
       "       'banana', 'orange', 'chickpea', 'chickpea', 'orange', 'jute',\n",
       "       'kidneybeans', 'pigeonpeas', 'coffee', 'papaya', 'coffee',\n",
       "       'muskmelon', 'kidneybeans', 'grapes', 'coffee', 'coffee',\n",
       "       'muskmelon', 'chickpea', 'grapes', 'blackgram', 'coconut', 'apple',\n",
       "       'mango', 'coffee', 'papaya', 'muskmelon', 'mothbeans', 'orange',\n",
       "       'apple', 'blackgram', 'cotton', 'coconut', 'chickpea', 'maize',\n",
       "       'orange', 'papaya', 'pigeonpeas', 'muskmelon', 'mothbeans',\n",
       "       'coffee', 'pigeonpeas', 'blackgram', 'watermelon', 'orange',\n",
       "       'mango', 'chickpea', 'orange', 'kidneybeans', 'maize', 'orange',\n",
       "       'mungbean', 'banana', 'grapes', 'coconut', 'papaya', 'papaya',\n",
       "       'coconut', 'mothbeans', 'coffee', 'mungbean', 'papaya', 'grapes',\n",
       "       'mango', 'banana', 'mango', 'kidneybeans', 'papaya', 'pomegranate',\n",
       "       'muskmelon', 'grapes', 'mango', 'jute', 'grapes', 'mothbeans',\n",
       "       'maize', 'orange', 'pigeonpeas', 'jute', 'pomegranate',\n",
       "       'watermelon', 'pigeonpeas', 'muskmelon', 'mango', 'muskmelon',\n",
       "       'apple', 'muskmelon', 'pigeonpeas', 'pigeonpeas', 'banana',\n",
       "       'muskmelon', 'chickpea', 'muskmelon', 'orange', 'maize', 'lentil',\n",
       "       'pomegranate', 'kidneybeans', 'lentil', 'muskmelon', 'coconut',\n",
       "       'watermelon', 'coffee', 'kidneybeans', 'pomegranate', 'mango',\n",
       "       'pigeonpeas', 'apple', 'mango', 'papaya', 'watermelon',\n",
       "       'kidneybeans', 'chickpea', 'mothbeans', 'coconut', 'rice',\n",
       "       'orange', 'cotton', 'muskmelon', 'pomegranate', 'cotton',\n",
       "       'mungbean', 'papaya', 'lentil', 'kidneybeans', 'cotton', 'grapes',\n",
       "       'mungbean', 'pigeonpeas', 'rice', 'pomegranate', 'banana',\n",
       "       'chickpea', 'pigeonpeas', 'pomegranate', 'grapes', 'apple', 'rice',\n",
       "       'lentil', 'mothbeans', 'kidneybeans', 'rice', 'mungbean', 'papaya',\n",
       "       'mango', 'banana', 'coffee', 'muskmelon', 'watermelon',\n",
       "       'muskmelon', 'mothbeans', 'papaya', 'pigeonpeas', 'coconut',\n",
       "       'lentil', 'lentil', 'banana', 'mothbeans', 'blackgram', 'orange',\n",
       "       'chickpea', 'apple', 'maize', 'jute', 'coffee', 'watermelon',\n",
       "       'mothbeans', 'chickpea', 'pomegranate', 'maize', 'rice', 'jute',\n",
       "       'coffee', 'maize', 'muskmelon', 'rice', 'cotton', 'apple',\n",
       "       'muskmelon', 'pomegranate', 'cotton', 'muskmelon', 'grapes',\n",
       "       'maize', 'coconut', 'banana', 'orange', 'jute', 'grapes',\n",
       "       'watermelon', 'grapes', 'mango', 'mothbeans', 'rice', 'mothbeans',\n",
       "       'pigeonpeas', 'mungbean', 'papaya', 'grapes', 'orange', 'coconut',\n",
       "       'chickpea', 'pigeonpeas', 'chickpea', 'coffee', 'watermelon',\n",
       "       'muskmelon', 'watermelon', 'kidneybeans', 'banana', 'mothbeans',\n",
       "       'chickpea', 'cotton', 'coconut', 'rice', 'banana', 'coconut',\n",
       "       'apple', 'mothbeans', 'banana', 'coconut', 'watermelon',\n",
       "       'muskmelon', 'orange', 'apple', 'watermelon', 'lentil', 'rice',\n",
       "       'kidneybeans', 'chickpea', 'apple', 'pomegranate', 'banana',\n",
       "       'mango', 'papaya', 'blackgram', 'muskmelon', 'mango', 'cotton',\n",
       "       'grapes', 'coffee', 'maize', 'coconut', 'kidneybeans', 'coconut',\n",
       "       'chickpea', 'coconut', 'blackgram', 'pomegranate', 'chickpea',\n",
       "       'chickpea', 'pigeonpeas', 'coffee', 'mango', 'mothbeans',\n",
       "       'chickpea', 'blackgram', 'mango', 'banana', 'pomegranate',\n",
       "       'coconut', 'cotton', 'pomegranate', 'jute', 'pigeonpeas', 'jute',\n",
       "       'papaya', 'jute', 'blackgram', 'coconut', 'mungbean', 'maize',\n",
       "       'chickpea', 'rice', 'cotton', 'mango', 'banana', 'banana',\n",
       "       'papaya', 'blackgram', 'pigeonpeas', 'lentil', 'coffee',\n",
       "       'pigeonpeas', 'banana', 'grapes', 'lentil', 'banana', 'mango',\n",
       "       'banana', 'watermelon', 'coffee', 'jute', 'orange', 'watermelon',\n",
       "       'coconut', 'chickpea', 'muskmelon', 'pigeonpeas', 'lentil',\n",
       "       'kidneybeans', 'jute', 'pomegranate', 'lentil', 'apple', 'coconut',\n",
       "       'apple', 'jute', 'blackgram', 'apple', 'mungbean', 'kidneybeans',\n",
       "       'pigeonpeas', 'watermelon', 'kidneybeans', 'rice', 'orange',\n",
       "       'apple', 'papaya', 'grapes', 'coconut', 'mango', 'rice', 'orange',\n",
       "       'muskmelon', 'mothbeans', 'muskmelon', 'coffee', 'papaya',\n",
       "       'papaya', 'blackgram', 'kidneybeans', 'lentil', 'jute',\n",
       "       'muskmelon', 'lentil', 'mango', 'lentil', 'banana', 'lentil',\n",
       "       'mango', 'cotton', 'mothbeans', 'mungbean', 'coconut',\n",
       "       'watermelon', 'mango', 'blackgram', 'coconut', 'pomegranate',\n",
       "       'maize', 'apple', 'coffee', 'coconut', 'mango', 'jute', 'grapes',\n",
       "       'kidneybeans', 'chickpea', 'rice', 'mungbean', 'blackgram',\n",
       "       'grapes', 'pomegranate', 'rice', 'coffee', 'blackgram', 'apple',\n",
       "       'coffee', 'papaya', 'apple', 'mungbean', 'grapes', 'maize',\n",
       "       'lentil', 'kidneybeans', 'coconut', 'jute', 'apple', 'pomegranate',\n",
       "       'lentil', 'maize', 'apple', 'apple', 'cotton', 'chickpea',\n",
       "       'lentil', 'chickpea', 'rice', 'pigeonpeas', 'lentil', 'coffee',\n",
       "       'kidneybeans', 'orange', 'coconut', 'pomegranate', 'coconut',\n",
       "       'maize', 'jute', 'jute', 'orange', 'rice', 'maize', 'coconut',\n",
       "       'coconut', 'kidneybeans', 'watermelon', 'blackgram', 'grapes',\n",
       "       'mothbeans', 'orange', 'pomegranate'], dtype=object)"
      ]
     },
     "execution_count": 50,
     "metadata": {},
     "output_type": "execute_result"
    }
   ],
   "source": [
    "y_pred"
   ]
  },
  {
   "cell_type": "code",
   "execution_count": 51,
   "id": "7314a7c2",
   "metadata": {},
   "outputs": [
    {
     "data": {
      "text/html": [
       "<div>\n",
       "<style scoped>\n",
       "    .dataframe tbody tr th:only-of-type {\n",
       "        vertical-align: middle;\n",
       "    }\n",
       "\n",
       "    .dataframe tbody tr th {\n",
       "        vertical-align: top;\n",
       "    }\n",
       "\n",
       "    .dataframe thead th {\n",
       "        text-align: right;\n",
       "    }\n",
       "</style>\n",
       "<table border=\"1\" class=\"dataframe\">\n",
       "  <thead>\n",
       "    <tr style=\"text-align: right;\">\n",
       "      <th></th>\n",
       "      <th>label</th>\n",
       "    </tr>\n",
       "  </thead>\n",
       "  <tbody>\n",
       "    <tr>\n",
       "      <th>1123</th>\n",
       "      <td>mango</td>\n",
       "    </tr>\n",
       "    <tr>\n",
       "      <th>1754</th>\n",
       "      <td>papaya</td>\n",
       "    </tr>\n",
       "    <tr>\n",
       "      <th>442</th>\n",
       "      <td>pigeonpeas</td>\n",
       "    </tr>\n",
       "    <tr>\n",
       "      <th>2013</th>\n",
       "      <td>jute</td>\n",
       "    </tr>\n",
       "    <tr>\n",
       "      <th>1388</th>\n",
       "      <td>watermelon</td>\n",
       "    </tr>\n",
       "    <tr>\n",
       "      <th>...</th>\n",
       "      <td>...</td>\n",
       "    </tr>\n",
       "    <tr>\n",
       "      <th>146</th>\n",
       "      <td>maize</td>\n",
       "    </tr>\n",
       "    <tr>\n",
       "      <th>1229</th>\n",
       "      <td>grapes</td>\n",
       "    </tr>\n",
       "    <tr>\n",
       "      <th>583</th>\n",
       "      <td>mothbeans</td>\n",
       "    </tr>\n",
       "    <tr>\n",
       "      <th>1697</th>\n",
       "      <td>orange</td>\n",
       "    </tr>\n",
       "    <tr>\n",
       "      <th>998</th>\n",
       "      <td>pomegranate</td>\n",
       "    </tr>\n",
       "  </tbody>\n",
       "</table>\n",
       "<p>550 rows × 1 columns</p>\n",
       "</div>"
      ],
      "text/plain": [
       "            label\n",
       "1123        mango\n",
       "1754       papaya\n",
       "442    pigeonpeas\n",
       "2013         jute\n",
       "1388   watermelon\n",
       "...           ...\n",
       "146         maize\n",
       "1229       grapes\n",
       "583     mothbeans\n",
       "1697       orange\n",
       "998   pomegranate\n",
       "\n",
       "[550 rows x 1 columns]"
      ]
     },
     "execution_count": 51,
     "metadata": {},
     "output_type": "execute_result"
    }
   ],
   "source": [
    "y_test"
   ]
  },
  {
   "cell_type": "code",
   "execution_count": 52,
   "id": "c13449a5",
   "metadata": {},
   "outputs": [
    {
     "data": {
      "text/plain": [
       "97.0909090909091"
      ]
     },
     "execution_count": 52,
     "metadata": {},
     "output_type": "execute_result"
    }
   ],
   "source": [
    "metrics.accuracy_score(y_test,y_pred)*100"
   ]
  },
  {
   "cell_type": "code",
   "execution_count": 53,
   "id": "8f27cc62",
   "metadata": {},
   "outputs": [
    {
     "data": {
      "text/plain": [
       "97.0909090909091"
      ]
     },
     "execution_count": 53,
     "metadata": {},
     "output_type": "execute_result"
    }
   ],
   "source": [
    "Keshav.score(x_test,y_test)*100"
   ]
  },
  {
   "cell_type": "markdown",
   "id": "0fac9c00",
   "metadata": {},
   "source": [
    "#### Logistic Regression"
   ]
  },
  {
   "cell_type": "code",
   "execution_count": 54,
   "id": "3d2d0116",
   "metadata": {},
   "outputs": [
    {
     "name": "stdout",
     "output_type": "stream",
     "text": [
      "98.9090909090909\n"
     ]
    }
   ],
   "source": [
    "from sklearn.linear_model import LogisticRegression\n",
    "LR=LogisticRegression(random_state=0,max_iter=3000)\n",
    "LR.fit(x_train, y_train)\n",
    "p1=LR.score(x_test,y_test)*100\n",
    "print(p1)"
   ]
  },
  {
   "cell_type": "markdown",
   "id": "d1664ef6",
   "metadata": {},
   "source": [
    "#### Ada Boos Classifiers "
   ]
  },
  {
   "cell_type": "code",
   "execution_count": 55,
   "id": "1aa859c5",
   "metadata": {},
   "outputs": [
    {
     "name": "stdout",
     "output_type": "stream",
     "text": [
      "17.272727272727273\n"
     ]
    }
   ],
   "source": [
    "from sklearn.ensemble import AdaBoostClassifier\n",
    "ADA=AdaBoostClassifier()\n",
    "ADA.fit(x_train, y_train)\n",
    "p2=ADA.score(x_test,y_test)*100\n",
    "print(p2)"
   ]
  },
  {
   "cell_type": "markdown",
   "id": "fee23029",
   "metadata": {},
   "source": [
    "#### Random Forest Classifiers "
   ]
  },
  {
   "cell_type": "code",
   "execution_count": 56,
   "id": "17f649e4",
   "metadata": {},
   "outputs": [
    {
     "name": "stdout",
     "output_type": "stream",
     "text": [
      "100.0\n"
     ]
    }
   ],
   "source": [
    "from sklearn.ensemble import RandomForestClassifier\n",
    "RF=RandomForestClassifier(max_features='auto', n_estimators=200)\n",
    "RF.fit(x_train, y_train)\n",
    "p3=RF.score(x_test,y_test)*100\n",
    "print(p3)"
   ]
  },
  {
   "cell_type": "markdown",
   "id": "ad94f079",
   "metadata": {},
   "source": [
    "#### Decision Tree Classifier"
   ]
  },
  {
   "cell_type": "code",
   "execution_count": 57,
   "id": "ef90d455",
   "metadata": {},
   "outputs": [
    {
     "name": "stdout",
     "output_type": "stream",
     "text": [
      "97.81818181818181\n"
     ]
    }
   ],
   "source": [
    "from sklearn.tree import DecisionTreeClassifier\n",
    "DC=DecisionTreeClassifier()\n",
    "DC.fit(x_train, y_train)\n",
    "p4=DC.score(x_test,y_test)*100\n",
    "print(p4)"
   ]
  },
  {
   "cell_type": "markdown",
   "id": "f00422f8",
   "metadata": {},
   "source": [
    "### Analysing Models"
   ]
  },
  {
   "cell_type": "code",
   "execution_count": 58,
   "id": "7520830d",
   "metadata": {},
   "outputs": [
    {
     "data": {
      "image/png": "[encoded data removed]",
      "text/plain": [
       "<Figure size 720x720 with 1 Axes>"
      ]
     },
     "metadata": {},
     "output_type": "display_data"
    }
   ],
   "source": [
    "a=[\"LogisticRegression\",\"AdaBoostClassifier\",\"RandomForestClassifier\",\"DecisionTreeClassifier\",]\n",
    "b=[p1,p2,p3,p4]\n",
    "plt.figure(figsize=(10,10))\n",
    "plt.bar(a,b)\n",
    "plt.title(\"Accuracy Graph\")\n",
    "plt.xlabel(\"Algorithm\")\n",
    "plt.ylabel(\"percentage\")\n",
    "plt.show()"
   ]
  },
  {
   "cell_type": "markdown",
   "id": "20b87957",
   "metadata": {},
   "source": [
    "### Results"
   ]
  },
  {
   "cell_type": "code",
   "execution_count": 61,
   "id": "276f4ce7",
   "metadata": {
    "scrolled": true
   },
   "outputs": [
    {
     "name": "stdout",
     "output_type": "stream",
     "text": [
      "Enter the Nitrogen value : 12\n",
      "Enter the Phosphorus value : 12\n",
      "Enter the Potassium value : 12\n",
      "Enter the Temprature : 12\n",
      "Enter the Humidity : 12\n",
      "Enter the pH value : 12\n",
      "Enter the Rainfall value : 21\n"
     ]
    }
   ],
   "source": [
    "ni=float(input('Enter the Nitrogen value : '))\n",
    "pp=float(input('Enter the Phosphorus value : '))\n",
    "pt=float(input('Enter the Potassium value : '))\n",
    "tp=float(input('Enter the Temprature : '))\n",
    "hu=float(input('Enter the Humidity : '))\n",
    "ph=float(input('Enter the pH value : '))\n",
    "rf=float(input('Enter the Rainfall value : '))\n",
    "result=RF.predict([[ni,ph,pt,tp,hu,ph,rf]])\n",
    "result_percentage=RF.predict_proba([[ni,ph,pt,tp,hu,ph,rf]])"
   ]
  },
  {
   "cell_type": "code",
   "execution_count": 62,
   "id": "417a1b92",
   "metadata": {},
   "outputs": [
    {
     "name": "stdout",
     "output_type": "stream",
     "text": [
      "20.5 % Sure that you can plant  kidneybeans\n"
     ]
    }
   ],
   "source": [
    "print(round(max(result_percentage[0])*100,2),'% Sure that you can plant ',result[0])"
   ]
  },
  {
   "cell_type": "markdown",
   "id": "1f7a1fb8",
   "metadata": {},
   "source": [
    "              \"Technology Changes, Environment Changes, At the end of the day your stomach asks for food\"\n",
    "                                    Be a part of agriculture at any cause"
   ]
  },
  {
   "cell_type": "markdown",
   "id": "5cd02688",
   "metadata": {},
   "source": [
    "                                              Thank You"
   ]
  },
  {
   "cell_type": "markdown",
   "id": "69657be6",
   "metadata": {},
   "source": [
    "**Thanks To**\n",
    "\n",
    " ###  [Panimalar Institute Of Technology](https://www.pit.ac.in/) "
   ]
  },
  {
   "cell_type": "markdown",
   "id": "d97d12a6",
   "metadata": {},
   "source": [
    "\n",
    "### Project By\n",
    "\n",
    "* SALAI KESHAVA MOORTHY B - [Github](https://github.com/salaikeshavmoorthy) | [Linkedin](https://www.linkedin.com/in/youtube-thamizhan-74434122b/) | [Internshala](https://my.indeed.com/resume?hl=en&co=IN&from=gnav-jobsearch--jasx&_ga=2.190033967.509980478.1655063117-1894406488.1654022033) | [Instagram](https://www.instagram.com/mr_keshav_ofcl/)"
   ]
  }
 ],
 "metadata": {
  "kernelspec": {
   "display_name": "Python 3 (ipykernel)",
   "language": "python",
   "name": "python3"
  },
  "language_info": {
   "codemirror_mode": {
    "name": "ipython",
    "version": 3
   },
   "file_extension": ".py",
   "mimetype": "text/x-python",
   "name": "python",
   "nbconvert_exporter": "python",
   "pygments_lexer": "ipython3",
   "version": "3.9.7"
  }
 },
 "nbformat": 4,
 "nbformat_minor": 5
}
